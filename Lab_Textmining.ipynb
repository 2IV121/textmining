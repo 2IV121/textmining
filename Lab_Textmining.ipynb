{
 "cells": [
  {
   "cell_type": "markdown",
   "metadata": {},
   "source": [
    "# Lab 1 / Exercise 3 Analyzing Drump Tweets"
   ]
  },
  {
   "cell_type": "markdown",
   "metadata": {},
   "source": [
    "## Preparatory task for the laboratory\n",
    " \n",
    "Before you get started with the lab, you need to familiarize yourself with the Jupyter environment.  Take a look at the `Lab 2` exercises 1 and 2:\n",
    "\n",
    "- [Lab 2 / Exercise 1: Notebook_Basics](Lab_Ex1_Notebook_Basics.ipynb)\n",
    "- [Lab 2 / Exercise 2: Running Code](Lab_Ex2_Running_Code.ipynb)\n",
    "\n",
    "You do not need to understand any code to complete this lab. However, if you are interested in how the underlying code works you can check Python file `functions.py` in the GitHub repository. To learn more detailed Python programming you can also study chapters 1-9 from the free online book [Python for Everybody](https://www.py4e.com/html3/). \n",
    "\n",
    "Once you are familiar with the Jupyter environment, we can now try out a simple analysis of Twitter data with a focus on data cleansing."
   ]
  },
  {
   "cell_type": "markdown",
   "metadata": {},
   "source": [
    "Before we get started, we need to load the relevant Python modules that us used in the code later by running the next code cell."
   ]
  },
  {
   "cell_type": "code",
   "execution_count": 1,
   "metadata": {},
   "outputs": [
    {
     "name": "stdout",
     "output_type": "stream",
     "text": [
      "Human-Computer Interaction: Social Media Text mining initialized... OK!\n"
     ]
    }
   ],
   "source": [
    "import functions\n",
    "%matplotlib inline\n",
    "\n",
    "\n",
    "import pandas as pd\n",
    "from ipywidgets import (\n",
    "    interact,\n",
    "    interactive,\n",
    "    fixed,\n",
    "    interact_manual,\n",
    "    widgets\n",
    ")\n"
   ]
  },
  {
   "cell_type": "markdown",
   "metadata": {},
   "source": [
    "To complete this lab:\n",
    "1. Follow the instructions running the code when asked.\n",
    "2. Discuss each question in your group.\n",
    "3. Keep notes for your answers to the questions in a separate MS Word document (you can use [this template](Lab2_Ex3_answers_template.docx)).\n",
    "4. When completed, briefly discuss your answers with the Lecturer/Teaching Assistant attending your lab. You **do not** need to submit your answers to Studentportalen."
   ]
  },
  {
   "cell_type": "markdown",
   "metadata": {
    "lang": "en"
   },
   "source": [
    "## Analysis of Twitter data from Donald Trump\n",
    "\n",
    "You have been hired as consultants by a journalist who wants you to find out which topics that are related to Donald Trump have generated attention on Twitter in 2015 and 2016.\n",
    "\n",
    "Your task is to find out if there is any topic that has been particularly hot on Twitter and to present a proposal to the journalist on what topics seem to create debate. In this lab we focus on data preparation. In order to prepare data, it is important to understand data.\n",
    "\n",
    "Often, the data to be analyzed must be cleansed before we can use it. Data cleansing can include tasks such as dealing with missing values or, as in our case, filtering out some parts of the raw text data. Data you have been provided with was collected from Twitter during the period July 2015 to November 2016.\n",
    "\n",
    "Run the following code cell to view some tweets taken from the dataset:"
   ]
  },
  {
   "cell_type": "code",
   "execution_count": 2,
   "metadata": {},
   "outputs": [
    {
     "name": "stdout",
     "output_type": "stream",
     "text": [
      "Tweet 0: Today we express our deepest gratitude to all those who have served in our armed forces. #ThankAVet https://t.co/wPk7QWpK8Z\n",
      "Tweet 1: Busy day planned in New York. Will soon be making some very important decisions on the people who will be running our government!\n",
      "Tweet 2: Love the fact that the small groups of protesters last night have passion for our great country. We will all come together and be proud!\n",
      "Tweet 3: Just had a very open and successful presidential election. Now professional protesters, incited by the media, are protesting. Very unfair!\n",
      "Tweet 4: A fantastic day in D.C. Met with President Obama for first time. Really good meeting, great chemistry. Melania liked Mrs. O a lot!\n",
      "Tweet 5: Happy 241st birthday to the U.S. Marine Corps! Thank you for your service!! https://t.co/Lz2dhrXzo4\n",
      "Tweet 6: Such a beautiful and important evening! The forgotten man and woman will never be forgotten again. We will all come together as never before\n",
      "Tweet 7: Watching the returns at 9:45pm.\n",
      "#ElectionNight #MAGA__ https://t.co/HfuJeRZbod\n",
      "Tweet 8: RT @IvankaTrump: Such a surreal moment to vote for my father for President of the United States! Make your voice heard and vote! #Election2_\n",
      "Tweet 9: RT @EricTrump: Join my family in this incredible movement to #MakeAmericaGreatAgain!! Now it is up to you! Please #VOTE for America! https:_\n",
      "Tweet 10: RT @DonaldJTrumpJr: FINAL PUSH! Eric and I doing dozens of radio interviews. We can win this thing! GET OUT AND VOTE! #MAGA #ElectionDay ht_\n",
      "Tweet 11: Still time to #VoteTrump!\n",
      "#iVoted #ElectionNight https://t.co/UZtYAY1Ba6\n",
      "Tweet 12: Dont let up, keep getting out to vote - this election is FAR FROM OVER! We are doing well but there is much time left. GO FLORIDA!\n",
      "Tweet 13: Just out according to @CNN: \"Utah officials report voting machine problems across entire country\"\n",
      "Tweet 14: I will be watching the election results from Trump Tower in Manhattan with my family and friends. Very exciting!\n"
     ]
    }
   ],
   "source": [
    "functions.first_15_tweets()"
   ]
  },
  {
   "cell_type": "markdown",
   "metadata": {},
   "source": [
    "**Question 1.** What do you think is distinctive Twitter data and how will this effect how we might want to pre-process the data?"
   ]
  },
  {
   "cell_type": "markdown",
   "metadata": {
    "lang": "en"
   },
   "source": [
    "## Data processing"
   ]
  },
  {
   "cell_type": "markdown",
   "metadata": {
    "lang": "en"
   },
   "source": [
    "Run the following code cell to view a preview of the full dataset:"
   ]
  },
  {
   "cell_type": "code",
   "execution_count": 3,
   "metadata": {},
   "outputs": [
    {
     "data": {
      "text/html": [
       "<div>\n",
       "<style scoped>\n",
       "    .dataframe tbody tr th:only-of-type {\n",
       "        vertical-align: middle;\n",
       "    }\n",
       "\n",
       "    .dataframe tbody tr th {\n",
       "        vertical-align: top;\n",
       "    }\n",
       "\n",
       "    .dataframe thead th {\n",
       "        text-align: right;\n",
       "    }\n",
       "</style>\n",
       "<table border=\"1\" class=\"dataframe\">\n",
       "  <thead>\n",
       "    <tr style=\"text-align: right;\">\n",
       "      <th></th>\n",
       "      <th>Date</th>\n",
       "      <th>Time</th>\n",
       "      <th>Tweet_Text</th>\n",
       "      <th>Type</th>\n",
       "      <th>Media_Type</th>\n",
       "      <th>Hashtags</th>\n",
       "      <th>Tweet_Id</th>\n",
       "      <th>Tweet_Url</th>\n",
       "      <th>twt_favourites_IS_THIS_LIKE_QUESTION_MARK</th>\n",
       "      <th>Retweets</th>\n",
       "      <th>Unnamed: 10</th>\n",
       "      <th>Unnamed: 11</th>\n",
       "    </tr>\n",
       "  </thead>\n",
       "  <tbody>\n",
       "    <tr>\n",
       "      <th>0</th>\n",
       "      <td>16-11-11</td>\n",
       "      <td>15:26:37</td>\n",
       "      <td>Today we express our deepest gratitude to all ...</td>\n",
       "      <td>text</td>\n",
       "      <td>photo</td>\n",
       "      <td>ThankAVet</td>\n",
       "      <td>7.970000e+17</td>\n",
       "      <td>https://twitter.com/realDonaldTrump/status/797...</td>\n",
       "      <td>127213</td>\n",
       "      <td>41112</td>\n",
       "      <td>NaN</td>\n",
       "      <td>NaN</td>\n",
       "    </tr>\n",
       "    <tr>\n",
       "      <th>1</th>\n",
       "      <td>16-11-11</td>\n",
       "      <td>13:33:35</td>\n",
       "      <td>Busy day planned in New York. Will soon be mak...</td>\n",
       "      <td>text</td>\n",
       "      <td>NaN</td>\n",
       "      <td>NaN</td>\n",
       "      <td>7.970000e+17</td>\n",
       "      <td>https://twitter.com/realDonaldTrump/status/797...</td>\n",
       "      <td>141527</td>\n",
       "      <td>28654</td>\n",
       "      <td>NaN</td>\n",
       "      <td>NaN</td>\n",
       "    </tr>\n",
       "    <tr>\n",
       "      <th>2</th>\n",
       "      <td>16-11-11</td>\n",
       "      <td>11:14:20</td>\n",
       "      <td>Love the fact that the small groups of protest...</td>\n",
       "      <td>text</td>\n",
       "      <td>NaN</td>\n",
       "      <td>NaN</td>\n",
       "      <td>7.970000e+17</td>\n",
       "      <td>https://twitter.com/realDonaldTrump/status/797...</td>\n",
       "      <td>183729</td>\n",
       "      <td>50039</td>\n",
       "      <td>NaN</td>\n",
       "      <td>NaN</td>\n",
       "    </tr>\n",
       "    <tr>\n",
       "      <th>3</th>\n",
       "      <td>16-11-11</td>\n",
       "      <td>2:19:44</td>\n",
       "      <td>Just had a very open and successful presidenti...</td>\n",
       "      <td>text</td>\n",
       "      <td>NaN</td>\n",
       "      <td>NaN</td>\n",
       "      <td>7.970000e+17</td>\n",
       "      <td>https://twitter.com/realDonaldTrump/status/796...</td>\n",
       "      <td>214001</td>\n",
       "      <td>67010</td>\n",
       "      <td>NaN</td>\n",
       "      <td>NaN</td>\n",
       "    </tr>\n",
       "    <tr>\n",
       "      <th>4</th>\n",
       "      <td>16-11-11</td>\n",
       "      <td>2:10:46</td>\n",
       "      <td>A fantastic day in D.C. Met with President Oba...</td>\n",
       "      <td>text</td>\n",
       "      <td>NaN</td>\n",
       "      <td>NaN</td>\n",
       "      <td>7.970000e+17</td>\n",
       "      <td>https://twitter.com/realDonaldTrump/status/796...</td>\n",
       "      <td>178499</td>\n",
       "      <td>36688</td>\n",
       "      <td>NaN</td>\n",
       "      <td>NaN</td>\n",
       "    </tr>\n",
       "    <tr>\n",
       "      <th>...</th>\n",
       "      <td>...</td>\n",
       "      <td>...</td>\n",
       "      <td>...</td>\n",
       "      <td>...</td>\n",
       "      <td>...</td>\n",
       "      <td>...</td>\n",
       "      <td>...</td>\n",
       "      <td>...</td>\n",
       "      <td>...</td>\n",
       "      <td>...</td>\n",
       "      <td>...</td>\n",
       "      <td>...</td>\n",
       "    </tr>\n",
       "    <tr>\n",
       "      <th>7370</th>\n",
       "      <td>15-07-16</td>\n",
       "      <td>13:10:00</td>\n",
       "      <td>I loved firing goofball atheist Penn @pennjill...</td>\n",
       "      <td>text</td>\n",
       "      <td>NaN</td>\n",
       "      <td>NaN</td>\n",
       "      <td>6.220000e+17</td>\n",
       "      <td>https://twitter.com/realDonaldTrump/status/621...</td>\n",
       "      <td>953</td>\n",
       "      <td>431</td>\n",
       "      <td>NaN</td>\n",
       "      <td>NaN</td>\n",
       "    </tr>\n",
       "    <tr>\n",
       "      <th>7371</th>\n",
       "      <td>15-07-16</td>\n",
       "      <td>10:18:31</td>\n",
       "      <td>I hear @pennjillette show on Broadway is terri...</td>\n",
       "      <td>text</td>\n",
       "      <td>NaN</td>\n",
       "      <td>NaN</td>\n",
       "      <td>6.220000e+17</td>\n",
       "      <td>https://twitter.com/realDonaldTrump/status/621...</td>\n",
       "      <td>1175</td>\n",
       "      <td>1086</td>\n",
       "      <td>NaN</td>\n",
       "      <td>NaN</td>\n",
       "    </tr>\n",
       "    <tr>\n",
       "      <th>7372</th>\n",
       "      <td>15-07-16</td>\n",
       "      <td>10:10:17</td>\n",
       "      <td>Irrelevant clown @KarlRove sweats and shakes n...</td>\n",
       "      <td>text</td>\n",
       "      <td>NaN</td>\n",
       "      <td>NaN</td>\n",
       "      <td>6.220000e+17</td>\n",
       "      <td>https://twitter.com/realDonaldTrump/status/621...</td>\n",
       "      <td>1494</td>\n",
       "      <td>930</td>\n",
       "      <td>NaN</td>\n",
       "      <td>NaN</td>\n",
       "    </tr>\n",
       "    <tr>\n",
       "      <th>7373</th>\n",
       "      <td>15-07-16</td>\n",
       "      <td>9:44:07</td>\n",
       "      <td>\"@HoustonWelder: Donald Trump is one of the se...</td>\n",
       "      <td>text</td>\n",
       "      <td>NaN</td>\n",
       "      <td>NaN</td>\n",
       "      <td>6.220000e+17</td>\n",
       "      <td>https://twitter.com/realDonaldTrump/status/621...</td>\n",
       "      <td>1800</td>\n",
       "      <td>1738</td>\n",
       "      <td>NaN</td>\n",
       "      <td>NaN</td>\n",
       "    </tr>\n",
       "    <tr>\n",
       "      <th>7374</th>\n",
       "      <td>15-07-16</td>\n",
       "      <td>0:21:25</td>\n",
       "      <td>RT @marklevinshow: Trump: Rove is a clown and ...</td>\n",
       "      <td>link</td>\n",
       "      <td>NaN</td>\n",
       "      <td>NaN</td>\n",
       "      <td>6.210000e+17</td>\n",
       "      <td>https://twitter.com/realDonaldTrump/status/621...</td>\n",
       "      <td>962</td>\n",
       "      <td>689</td>\n",
       "      <td>NaN</td>\n",
       "      <td>NaN</td>\n",
       "    </tr>\n",
       "  </tbody>\n",
       "</table>\n",
       "<p>7375 rows × 12 columns</p>\n",
       "</div>"
      ],
      "text/plain": [
       "          Date      Time                                         Tweet_Text  \\\n",
       "0     16-11-11  15:26:37  Today we express our deepest gratitude to all ...   \n",
       "1     16-11-11  13:33:35  Busy day planned in New York. Will soon be mak...   \n",
       "2     16-11-11  11:14:20  Love the fact that the small groups of protest...   \n",
       "3     16-11-11   2:19:44  Just had a very open and successful presidenti...   \n",
       "4     16-11-11   2:10:46  A fantastic day in D.C. Met with President Oba...   \n",
       "...        ...       ...                                                ...   \n",
       "7370  15-07-16  13:10:00  I loved firing goofball atheist Penn @pennjill...   \n",
       "7371  15-07-16  10:18:31  I hear @pennjillette show on Broadway is terri...   \n",
       "7372  15-07-16  10:10:17  Irrelevant clown @KarlRove sweats and shakes n...   \n",
       "7373  15-07-16   9:44:07  \"@HoustonWelder: Donald Trump is one of the se...   \n",
       "7374  15-07-16   0:21:25  RT @marklevinshow: Trump: Rove is a clown and ...   \n",
       "\n",
       "      Type Media_Type   Hashtags      Tweet_Id  \\\n",
       "0     text      photo  ThankAVet  7.970000e+17   \n",
       "1     text        NaN        NaN  7.970000e+17   \n",
       "2     text        NaN        NaN  7.970000e+17   \n",
       "3     text        NaN        NaN  7.970000e+17   \n",
       "4     text        NaN        NaN  7.970000e+17   \n",
       "...    ...        ...        ...           ...   \n",
       "7370  text        NaN        NaN  6.220000e+17   \n",
       "7371  text        NaN        NaN  6.220000e+17   \n",
       "7372  text        NaN        NaN  6.220000e+17   \n",
       "7373  text        NaN        NaN  6.220000e+17   \n",
       "7374  link        NaN        NaN  6.210000e+17   \n",
       "\n",
       "                                              Tweet_Url  \\\n",
       "0     https://twitter.com/realDonaldTrump/status/797...   \n",
       "1     https://twitter.com/realDonaldTrump/status/797...   \n",
       "2     https://twitter.com/realDonaldTrump/status/797...   \n",
       "3     https://twitter.com/realDonaldTrump/status/796...   \n",
       "4     https://twitter.com/realDonaldTrump/status/796...   \n",
       "...                                                 ...   \n",
       "7370  https://twitter.com/realDonaldTrump/status/621...   \n",
       "7371  https://twitter.com/realDonaldTrump/status/621...   \n",
       "7372  https://twitter.com/realDonaldTrump/status/621...   \n",
       "7373  https://twitter.com/realDonaldTrump/status/621...   \n",
       "7374  https://twitter.com/realDonaldTrump/status/621...   \n",
       "\n",
       "      twt_favourites_IS_THIS_LIKE_QUESTION_MARK  Retweets  Unnamed: 10  \\\n",
       "0                                        127213     41112          NaN   \n",
       "1                                        141527     28654          NaN   \n",
       "2                                        183729     50039          NaN   \n",
       "3                                        214001     67010          NaN   \n",
       "4                                        178499     36688          NaN   \n",
       "...                                         ...       ...          ...   \n",
       "7370                                        953       431          NaN   \n",
       "7371                                       1175      1086          NaN   \n",
       "7372                                       1494       930          NaN   \n",
       "7373                                       1800      1738          NaN   \n",
       "7374                                        962       689          NaN   \n",
       "\n",
       "      Unnamed: 11  \n",
       "0             NaN  \n",
       "1             NaN  \n",
       "2             NaN  \n",
       "3             NaN  \n",
       "4             NaN  \n",
       "...           ...  \n",
       "7370          NaN  \n",
       "7371          NaN  \n",
       "7372          NaN  \n",
       "7373          NaN  \n",
       "7374          NaN  \n",
       "\n",
       "[7375 rows x 12 columns]"
      ]
     },
     "execution_count": 3,
     "metadata": {},
     "output_type": "execute_result"
    }
   ],
   "source": [
    "functions.view_table()"
   ]
  },
  {
   "cell_type": "markdown",
   "metadata": {},
   "source": [
    "**Question 2.** How many rows and columns are in the dataset?"
   ]
  },
  {
   "cell_type": "markdown",
   "metadata": {
    "lang": "en"
   },
   "source": [
    "Run the following cell to get some summary information about the dataset:"
   ]
  },
  {
   "cell_type": "code",
   "execution_count": 4,
   "metadata": {},
   "outputs": [
    {
     "name": "stdout",
     "output_type": "stream",
     "text": [
      "<class 'pandas.core.frame.DataFrame'>\n",
      "RangeIndex: 7375 entries, 0 to 7374\n",
      "Data columns (total 12 columns):\n",
      "Date                                         7375 non-null object\n",
      "Time                                         7375 non-null object\n",
      "Tweet_Text                                   7375 non-null object\n",
      "Type                                         7375 non-null object\n",
      "Media_Type                                   1225 non-null object\n",
      "Hashtags                                     2031 non-null object\n",
      "Tweet_Id                                     7375 non-null float64\n",
      "Tweet_Url                                    7375 non-null object\n",
      "twt_favourites_IS_THIS_LIKE_QUESTION_MARK    7375 non-null int64\n",
      "Retweets                                     7375 non-null int64\n",
      "Unnamed: 10                                  26 non-null float64\n",
      "Unnamed: 11                                  13 non-null float64\n",
      "dtypes: float64(3), int64(2), object(7)\n",
      "memory usage: 691.5+ KB\n"
     ]
    }
   ],
   "source": [
    "functions.view_table_info()"
   ]
  },
  {
   "cell_type": "markdown",
   "metadata": {},
   "source": [
    "**Question 3.** How many tweets contain a hashtag?\n",
    "\n",
    "*Hint: The count of non-null objects in the summary information about the dataset imply that of values present in a particular columnm. Null objects are where values are absent.*"
   ]
  },
  {
   "cell_type": "markdown",
   "metadata": {
    "lang": "en"
   },
   "source": [
    "**Question 4.** Inspect the columns and contents of the dataset. What part of data may be of interest for your analysis?"
   ]
  },
  {
   "cell_type": "markdown",
   "metadata": {
    "lang": "en"
   },
   "source": [
    "### Emojis\n",
    "\n",
    "On Twitter it is common to use emojis 👍 ✨ 🐫 🎉 🚀 🤘.\n",
    "\n",
    "When doing text analysis this can be useful because an emoji can contain a lot of information about what a person who wrote something means and what tone the text has. However, emojis may be problematic during analyses since coding of these is not necessarily compatible with the processing modules like NLTK.\n",
    "\n",
    "Sometimes emojis create problems in text processing 😭 and therefore need to filter be filtered out from the raw data. However, doing this might effect the quality of analysis.\n",
    "\n",
    "Run the following cell that displays a sample of 5 tweets with emojis. Try applying a filter to the tweets to remove the emojis by using the tickbox:"
   ]
  },
  {
   "cell_type": "code",
   "execution_count": 5,
   "metadata": {
    "scrolled": true
   },
   "outputs": [
    {
     "data": {
      "application/vnd.jupyter.widget-view+json": {
       "model_id": "d0a6631172064c8f9943f04530f45bae",
       "version_major": 2,
       "version_minor": 0
      },
      "text/plain": [
       "interactive(children=(Checkbox(value=False, description='filter_emojis'), Output()), _dom_classes=('widget-int…"
      ]
     },
     "metadata": {},
     "output_type": "display_data"
    }
   ],
   "source": [
    "functions.filter_emojis()"
   ]
  },
  {
   "cell_type": "markdown",
   "metadata": {
    "lang": "en"
   },
   "source": [
    "**Question 5.** How might removing emojis effect the quality of analysis? Explain your answer."
   ]
  },
  {
   "cell_type": "markdown",
   "metadata": {
    "lang": "en"
   },
   "source": [
    "### Remove URLs\n",
    "On Twitter, it is common to link to locations on the Web using URLs. It is often the case that commonly occuring parts of URLs will end up among the most frequent words. It is therefore important to filter them out.\n",
    "\n",
    "Run the following code cell that displays a sample of 5 tweets, some with URLs. Try applying a filter to the tweets to remove URLs by using the tickbox:"
   ]
  },
  {
   "cell_type": "code",
   "execution_count": 6,
   "metadata": {},
   "outputs": [
    {
     "data": {
      "application/vnd.jupyter.widget-view+json": {
       "model_id": "ca6acb90e33745e09728f6b456363ea1",
       "version_major": 2,
       "version_minor": 0
      },
      "text/plain": [
       "interactive(children=(Checkbox(value=False, description='filter_urls'), Output()), _dom_classes=('widget-inter…"
      ]
     },
     "metadata": {},
     "output_type": "display_data"
    }
   ],
   "source": [
    "functions.filter_urls()"
   ]
  },
  {
   "cell_type": "markdown",
   "metadata": {},
   "source": [
    "**Question 6.** How might removing URLs effect the quality of analysis? Explain your answer."
   ]
  },
  {
   "cell_type": "markdown",
   "metadata": {
    "lang": "en"
   },
   "source": [
    "### Function for most frequent words\n",
    "\n",
    "We will look for the most frequent words several times during this lab after each pre-processing step in order to compare the affect of the pre-processing. We will do the same operations several times, so therefore we will create a couple of functions to help us with our analysis.\n",
    "\n",
    "#### What is a Term Document Matrix?\n",
    "\n",
    "First, we create a term-document matrix (TDM), which can also referred to as a document-term matrix (DTM). A TDM gives us a table of the number of instances of a word for each document in a corpus. You should start by creating a TDM that is a representation of each tweet in terms of a feature vector. The feature vector creates an element for each word (unless excluded in the pre-processing, see further below). Thus, each element in the feature vector represents a word contained in one of the tweets. In the TDM you create, each line corresponds to the text of a tweet where all words that are not filtered out of the tweet are saved in the corresponding elements in the feature vector.\n",
    "\n",
    "Run the following code cell to create a TDM for the first three documents in our tweets corpus. Using the slider, you can adjust the sample size to adjust the number of tweets used to create the TDM:"
   ]
  },
  {
   "cell_type": "code",
   "execution_count": 7,
   "metadata": {},
   "outputs": [
    {
     "data": {
      "application/vnd.jupyter.widget-view+json": {
       "model_id": "9e7936a0d9a84ef1adddce9d0b31aa21",
       "version_major": 2,
       "version_minor": 0
      },
      "text/plain": [
       "interactive(children=(IntSlider(value=3, description='sample_size', max=15, min=1), Output()), _dom_classes=('…"
      ]
     },
     "metadata": {},
     "output_type": "display_data"
    }
   ],
   "source": [
    "functions.make_tdm()"
   ]
  },
  {
   "cell_type": "markdown",
   "metadata": {},
   "source": [
    "**Question 7.** How many columns are created for our small TDM above for sample sizes of 1, 3, and 5 tweets?"
   ]
  },
  {
   "cell_type": "markdown",
   "metadata": {},
   "source": [
    "To find the top words we will do a bit more work. We sum up each of the columns in the TDM and sort the word frequencies by counts to generate the top sorted words list. We can then plot these words in a nice bar chart.\n",
    "\n",
    "Run the next code cell to create an interactive plot of the top words based on our generated TDM. You can use the sliders to control the number of words in the historgram plot (using `top_words`) and in the list of top words output below (using `num_word...`):"
   ]
  },
  {
   "cell_type": "code",
   "execution_count": 8,
   "metadata": {
    "scrolled": true
   },
   "outputs": [
    {
     "data": {
      "application/vnd.jupyter.widget-view+json": {
       "model_id": "775249ac884d420585653ec0dbbc1455",
       "version_major": 2,
       "version_minor": 0
      },
      "text/plain": [
       "interactive(children=(IntSlider(value=50, continuous_update=False, description='num_word_instances', min=1), I…"
      ]
     },
     "metadata": {},
     "output_type": "display_data"
    }
   ],
   "source": [
    "functions.plot_top_words()"
   ]
  },
  {
   "cell_type": "markdown",
   "metadata": {},
   "source": [
    "**Question 8** How many times must a word occur in your corpus for the function to appear in the top words list output above?"
   ]
  },
  {
   "cell_type": "markdown",
   "metadata": {},
   "source": [
    "**Question 9.** What are the top 5 occurring words in the corpus? Discuss how useful these words are to our analysis."
   ]
  },
  {
   "cell_type": "markdown",
   "metadata": {
    "lang": "en"
   },
   "source": [
    "### Lowercase\n",
    "\n",
    "The next step is to redo all the words in lowercase letters. You do this to avoid identiftyinhg the same words as different ones, when written in different cases. For example before transforming the whole corpus into lowercase letters, the word `Trump`and `trump` may be identified as different words.\n",
    "\n",
    "Run the following code cell that displays a sample of 5 tweets with mixed-case letters. Try applying a filter to the tweets to transform them to lowercase by using the tickbox:"
   ]
  },
  {
   "cell_type": "code",
   "execution_count": 9,
   "metadata": {
    "scrolled": true
   },
   "outputs": [
    {
     "data": {
      "application/vnd.jupyter.widget-view+json": {
       "model_id": "746c629f757942af80e0482fe5705f9b",
       "version_major": 2,
       "version_minor": 0
      },
      "text/plain": [
       "interactive(children=(Checkbox(value=False, description='lowercase'), Output()), _dom_classes=('widget-interac…"
      ]
     },
     "metadata": {},
     "output_type": "display_data"
    }
   ],
   "source": [
    "functions.make_lowercase()"
   ]
  },
  {
   "cell_type": "markdown",
   "metadata": {},
   "source": [
    "### Small words\n",
    "\n",
    "Most small words are usually of limited importance, so let's strip those out. One way we can do this is to simply find words that are at least 3 letters long and keep them in the corpus. We can define a \"word\" as being any string of letters.\n",
    "\n",
    "Run the following code cell that displays a sample of 5 tweets with small words. Try applying a filter to the tweets to remove small words by using the tickbox:"
   ]
  },
  {
   "cell_type": "code",
   "execution_count": 10,
   "metadata": {},
   "outputs": [
    {
     "data": {
      "application/vnd.jupyter.widget-view+json": {
       "model_id": "eaf474649e7848bb8f0b196e665a1f8e",
       "version_major": 2,
       "version_minor": 0
      },
      "text/plain": [
       "interactive(children=(Checkbox(value=False, description='small_words'), Output()), _dom_classes=('widget-inter…"
      ]
     },
     "metadata": {},
     "output_type": "display_data"
    }
   ],
   "source": [
    "functions.remove_small_words()"
   ]
  },
  {
   "cell_type": "markdown",
   "metadata": {
    "lang": "en"
   },
   "source": [
    "### Stop Words\n",
    "\n",
    "Stop words are words of limited importance and are therefore not so interesting for your analysis. We use stop words as a reference so that we can filter out words that we do not want to analyze, for example prepositions and conjunctions.\n",
    "\n",
    "First, we can create a list of stopwords that we can use to remove from the most frequent word collection:\n",
    "\n",
    "````\n",
    "['i', 'me', 'my', 'myself', 'we', 'our', 'ours', 'ourselves', 'you', \"you're\", \"you've\", \"you'll\", \"you'd\", 'your', 'yours', 'yourself', 'yourselves', 'he', 'him', 'his', 'himself', 'she', \"she's\", 'her', 'hers', 'herself', 'it', \"it's\", 'its', 'itself', 'they', 'them', 'their', 'theirs', 'themselves', 'what', 'which', 'who', 'whom', 'this', 'that',\n",
    "\"that'll\", 'these', 'those', 'am', 'is', 'are', 'was', 'were', 'be', 'been', 'being', 'have', 'has', 'had', 'having', \n",
    "'do', 'does', 'did', 'doing', 'a', 'an', 'the', 'and', 'but', 'if', 'or', 'because', 'as', 'until', 'while', 'of', 'at', 'by', 'for', 'with', 'about', 'against', 'between', 'into', 'through', 'during', 'before', 'after', 'above', 'below',\n",
    "'to', 'from', 'up', 'down', 'in', 'out', 'on', 'off', 'over', 'under', 'again', 'further', 'then', 'once', 'here', \n",
    "'there', 'when', 'where', 'why', 'how', 'all', 'any', 'both', 'each', 'few', 'more', 'most', 'other', 'some', 'such',\n",
    "'no', 'nor', 'not', 'only', 'own', 'same', 'so', 'than', 'too', 'very', 's', 't', 'can', 'will', 'just', 'don', \"don't\", 'should', \"should've\", 'now', 'd', 'll', 'm', 'o', 're', 've', 'y', 'ain', 'aren', \"aren't\", 'couldn', \"couldn't\",\n",
    "'didn', \"didn't\", 'doesn', \"doesn't\", 'hadn', \"hadn't\", 'hasn', \"hasn't\", 'haven', \"haven't\", 'isn', \"isn't\", 'ma', \n",
    "'mightn', \"mightn't\", 'mustn', \"mustn't\", 'needn', \"needn't\", 'shan', \"shan't\",'shouldn', \"shouldn't\", 'wasn', \"wasn't\", 'weren', \"weren't\", 'won', \"won't\", 'wouldn', \"wouldn't\"]\n",
    "```\n",
    "\n",
    "Run the following code cell that displays a sample of 5 tweets that contains some stop words. Try applying a filter to the tweets to remove stop words by using the tickbox:"
   ]
  },
  {
   "cell_type": "code",
   "execution_count": 11,
   "metadata": {},
   "outputs": [
    {
     "data": {
      "application/vnd.jupyter.widget-view+json": {
       "model_id": "f56b7a663e1c4acea439e1907dcae1f0",
       "version_major": 2,
       "version_minor": 0
      },
      "text/plain": [
       "interactive(children=(Checkbox(value=False, description='stop_words'), Output()), _dom_classes=('widget-intera…"
      ]
     },
     "metadata": {},
     "output_type": "display_data"
    }
   ],
   "source": [
    "functions.remove_stop_words()"
   ]
  },
  {
   "cell_type": "markdown",
   "metadata": {},
   "source": [
    "Let's try applying these filters to the whole tweets corpus and plot the top words.\n",
    "\n",
    "Run the following code cell to create an interactive plot of the top words based on our generated TDM. You can use the tickboxes to apply the various transforms and filters we have already discussed above."
   ]
  },
  {
   "cell_type": "code",
   "execution_count": 12,
   "metadata": {},
   "outputs": [
    {
     "data": {
      "application/vnd.jupyter.widget-view+json": {
       "model_id": "62b652e198974a68afdfaf134e4d1a38",
       "version_major": 2,
       "version_minor": 0
      },
      "text/plain": [
       "interactive(children=(IntSlider(value=50, continuous_update=False, description='num_word_instances', min=1), I…"
      ]
     },
     "metadata": {},
     "output_type": "display_data"
    }
   ],
   "source": [
    "functions.plot_top_words_with_filters()"
   ]
  },
  {
   "cell_type": "markdown",
   "metadata": {},
   "source": [
    "**Question 10.** What do you observe in the data after plotting the lowered tweets? Suggest some reasons for your observations."
   ]
  },
  {
   "cell_type": "markdown",
   "metadata": {},
   "source": [
    "**Question 11.** After removing small words only, how many times must a word occur in the corpus for one to appear in the top-10 words?"
   ]
  },
  {
   "cell_type": "markdown",
   "metadata": {},
   "source": [
    "**Question 12.** After removing stop words only, how many times must a word occur in the corpus for one to appear in the top-10 words?"
   ]
  },
  {
   "cell_type": "markdown",
   "metadata": {
    "lang": "en"
   },
   "source": [
    "**Question 13.** Does the pre-processing of data changed the list of the 20 most frequent words? Provide reasons for your observations."
   ]
  },
  {
   "cell_type": "markdown",
   "metadata": {
    "lang": "en"
   },
   "source": [
    "### Add your own stopwords\n",
    "\n",
    "You can also choose to add your own stop words if you think there are words in the plot that are not so informative to determine which topic the journalist should focus on. For example, you could remove `https` in the text. Create your own *additional* stop words to the stop word list above as a comma-separated list and try and refine the analysis.\n",
    "\n",
    "Run the following code cell to create an interactive plot of the top words based on our generated TDM. You can use the tickboxes to apply the various transforms and filters we have already discussed above *and* enter your own additional stop words to filter out:"
   ]
  },
  {
   "cell_type": "code",
   "execution_count": 13,
   "metadata": {
    "scrolled": true
   },
   "outputs": [
    {
     "data": {
      "application/vnd.jupyter.widget-view+json": {
       "model_id": "efc80e38f5bd4495ad10782964b95c95",
       "version_major": 2,
       "version_minor": 0
      },
      "text/plain": [
       "interactive(children=(IntSlider(value=50, continuous_update=False, description='num_word_instances', min=1), I…"
      ]
     },
     "metadata": {},
     "output_type": "display_data"
    }
   ],
   "source": [
    "functions.plot_top_words_with_custom_stopwords()"
   ]
  },
  {
   "cell_type": "markdown",
   "metadata": {
    "lang": "en"
   },
   "source": [
    "**Question 14.** What stop words did you add and why? Did you notice any further problems?"
   ]
  },
  {
   "cell_type": "markdown",
   "metadata": {
    "lang": "en"
   },
   "source": [
    "### Visualization of analysis and recommendation\n",
    "\n",
    "Now you will create a visualization that will help you convince the company why they should focus on this particular topic. A common way of visualizing commonly used words in a text is by using a word cloud.\n",
    "\n",
    "Run the following code cell to create an interactive word cloud of the top words based on our generated TDM. You can use the tickboxes to apply the various transforms and filters we have already discussed above and enter your own additional stop words to filter out:"
   ]
  },
  {
   "cell_type": "code",
   "execution_count": 14,
   "metadata": {},
   "outputs": [
    {
     "data": {
      "application/vnd.jupyter.widget-view+json": {
       "model_id": "db90f0c2c99d41cb93c0ea4cde95670b",
       "version_major": 2,
       "version_minor": 0
      },
      "text/plain": [
       "interactive(children=(IntSlider(value=50, continuous_update=False, description='num_word_instances', min=1), C…"
      ]
     },
     "metadata": {},
     "output_type": "display_data"
    }
   ],
   "source": [
    "functions.plot_wordcloud()"
   ]
  },
  {
   "cell_type": "markdown",
   "metadata": {
    "lang": "en"
   },
   "source": [
    "Run the following code cell again to create a second word cloud so you can compare the outputs of different filtered datasets (for example, compare with no filters):"
   ]
  },
  {
   "cell_type": "code",
   "execution_count": 15,
   "metadata": {},
   "outputs": [
    {
     "data": {
      "application/vnd.jupyter.widget-view+json": {
       "model_id": "a2afa2a1caae41dd808430625fb7f13a",
       "version_major": 2,
       "version_minor": 0
      },
      "text/plain": [
       "interactive(children=(IntSlider(value=50, continuous_update=False, description='num_word_instances', min=1), C…"
      ]
     },
     "metadata": {},
     "output_type": "display_data"
    }
   ],
   "source": [
    "functions.plot_wordcloud()"
   ]
  },
  {
   "cell_type": "markdown",
   "metadata": {
    "lang": "en"
   },
   "source": [
    "### Compare your word clouds\n",
    "\n",
    "Create word clouds for at least two of your top words lists to compare how the pre-processing has affected the word clouds. You can also change the minimum frequency for a word to end up in the word cloud. If you think any words should be deleted, you can go back to an earlier step and add it to your stop word list and re-run the cells afterwards."
   ]
  },
  {
   "cell_type": "markdown",
   "metadata": {
    "lang": "en"
   },
   "source": [
    "**Question 15.** Are there any words that are not as informative that you removed to improve visualization? Explain why you removed any additional words."
   ]
  },
  {
   "cell_type": "markdown",
   "metadata": {
    "lang": "en"
   },
   "source": [
    "**Question 16.** What topic would you recommend the journalist should focus on?\n",
    "Explain your answer."
   ]
  },
  {
   "cell_type": "markdown",
   "metadata": {
    "lang": "en"
   },
   "source": [
    "**Question 17.** Now that you have explored some Twitter data, what do you now think are the interesting characteristics of this kind of data? How does it affect how you must pre-process data?"
   ]
  },
  {
   "cell_type": "code",
   "execution_count": null,
   "metadata": {},
   "outputs": [],
   "source": []
  }
 ],
 "metadata": {
  "kernelspec": {
   "display_name": "Python 3",
   "language": "python",
   "name": "python3"
  },
  "language_info": {
   "codemirror_mode": {
    "name": "ipython",
    "version": 3
   },
   "file_extension": ".py",
   "mimetype": "text/x-python",
   "name": "python",
   "nbconvert_exporter": "python",
   "pygments_lexer": "ipython3",
   "version": "3.7.3"
  },
  "latex_envs": {
   "LaTeX_envs_menu_present": true,
   "autoclose": false,
   "autocomplete": true,
   "bibliofile": "biblio.bib",
   "cite_by": "apalike",
   "current_citInitial": 1,
   "eqLabelWithNumbers": true,
   "eqNumInitial": 1,
   "hotkeys": {
    "equation": "Ctrl-E",
    "itemize": "Ctrl-I"
   },
   "labels_anchors": false,
   "latex_user_defs": false,
   "report_style_numbering": false,
   "user_envs_cfg": false
  },
  "nbTranslate": {
   "displayLangs": [],
   "hotkey": "alt-t",
   "langInMainMenu": true,
   "sourceLang": "sv",
   "targetLang": "en",
   "useGoogleTranslate": true
  }
 },
 "nbformat": 4,
 "nbformat_minor": 2
}
